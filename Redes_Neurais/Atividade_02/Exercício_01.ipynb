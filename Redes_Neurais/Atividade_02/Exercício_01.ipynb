{
 "cells": [
  {
   "cell_type": "markdown",
   "id": "2c63210d",
   "metadata": {},
   "source": [
    "Vamos criar uma classe chamada `Particula` que representa uma partícula em um espaço bidimensional. A classe deve ter os seguintes atributos e métodos:\n",
    "\n",
    "- Atributos:\n",
    "  - `x`: coordenada x da partícula\n",
    "  - `y`: coordenada y da partícula\n",
    "  - `vx`: velocidade na direção x\n",
    "  - `vy`: velocidade na direção y\n",
    "  - `massa`: massa da partícula\n",
    "\n",
    "- Métodos:\n",
    "    - `__init__(self, x, y, vx, vy, massa)`: construtor da classe que inicializa os atributos da partícula.\n",
    "    - `newton(self, fx, fy, dt)`: aplica a segunda lei de Newton para atualizar a velocidade e a posição da partícula com base nas forças `(fx, fy)` aplicadas e no intervalo de tempo `dt`. Considerar que a força é constante durante o intervalo de tempo `dt`.\n",
    "\n",
    "## Como organizar os arquivos e repositório\n",
    "\n",
    "1. Crie um arquivo chamado `particula.py` e implemente a classe `Particula` conforme as especificações acima.\n",
    "2. Crie um arquivo chamado `exemplo01.py` onde iremos desenvolver os exemplos. Veja mais abaixo.\n",
    "3. Crie um arquivo chamado `README.md` e escreva uma breve descrição do que o código faz, como usá-lo e quais são os requisitos para executá-lo.\n",
    "4. Crie um arquivo chamado `LICENSE` e adicione a licença MIT.\n",
    "5. Crie um arquivo chamado `.gitignore` e adicione os arquivos e pastas que você não quer que sejam versionados pelo git.\n",
    "6. Crie um repositório no GitHub e faça o push do seu código para o repositório.\n",
    "\n",
    "## Exemplo de uso\n",
    "\n",
    "Nos arquivos `exemplo01.py`, `exemplo02.py` iremos implementar alguns exemplos de uso da classe `Particula`.\n",
    "\n",
    "### Exemplo 1: lançamento oblíquo\n",
    "\n",
    "Crie a particula inicialmente com posição (x,y) = (0,0), velocidade (vx,vy) = (10,10) m/s, e massa m = 1 kg. Consideraremos apenas a força da gravidade, (fx, fy) = (0, -9.8) m/s². A cada dt = 0.1 s, aplique a força da gravidade e atualize a posição e velocidade da partícula. Salve a posição, velocidade e tempo em listas ou arrays para posterior plotagem. Interrompa o loop quando a partícula atingir o solo (y <= 0). Faça um gráfico paramétrico da trajetória da partícula (x vs y).\n",
    "\n",
    "**DICA:** Para tornar a implementação mais interessante, você pode adicionar o *tempo* como um atributo da partícula, e tratar o tempo, posições e velocidades como listas ou arrays que vão se atualizando a cada iteração do loop pelo método `newton`. Desta forma ficará mais fácil organizar os dados e plotar os gráficos."
   ]
  },
  {
   "cell_type": "markdown",
   "id": "532af095",
   "metadata": {},
   "source": []
  }
 ],
 "metadata": {
  "language_info": {
   "name": "python"
  }
 },
 "nbformat": 4,
 "nbformat_minor": 5
}
