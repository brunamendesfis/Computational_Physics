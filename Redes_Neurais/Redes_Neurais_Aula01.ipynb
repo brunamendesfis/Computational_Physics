{
 "cells": [
  {
   "cell_type": "markdown",
   "metadata": {},
   "source": [
    "## Nessa disciplina usaremos o Fully Conected Neural Network (FCNN)"
   ]
  },
  {
   "cell_type": "markdown",
   "metadata": {},
   "source": [
    "Algumas observações:\n",
    "\n",
    "- O input é injetado na caixa preta (rede neural) e da caixa preta sai o output;\n",
    "- A quantidade de input/output não é fixo;\n",
    "- Temos como parâmetros: w (matrizes) e b (vetores);\n",
    "- Calculamos o erro a partir do resultado obtido pelo output;\n",
    "- Para minimizar o erro podemos variar os parâmetros w e b"
   ]
  },
  {
   "cell_type": "markdown",
   "metadata": {},
   "source": [
    "## Exemplo:\n",
    "\n",
    "- Identificamos as camadas como *layers (l)*, onde o $l = 0$ é nosso input;\n",
    "- Cada *layer* possui um vetor $x_{l}$ associado, sendo que este último é composto por seus respectivos neurônios (são os inputs de cada linha das camadas);\n",
    "- A conexão entre os dados das camadas vizinhas é feita pelo o que chamamos de *pesos* ou *weights* ($w$ e $b$);\n",
    "- A transformação entre camadas vizinhas são feitas pelo o que chamamos de função de ativação ($a$), que são funções não-lineares."
   ]
  }
 ],
 "metadata": {
  "language_info": {
   "name": "python"
  }
 },
 "nbformat": 4,
 "nbformat_minor": 2
}
