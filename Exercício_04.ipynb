{
 "cells": [
  {
   "cell_type": "markdown",
   "metadata": {},
   "source": [
    "# Exercício 4:\n",
    "\n",
    "Considere agora uma função bidimensional:\n",
    "\n",
    " $$U(\\vec{r}) = U(x, y) = \\sin(x)\\cos(y) + \\frac{2(xy)^2}{1000}$$\n",
    "\n",
    "A função tem multiplos mínimos locais. A vizualiação 3D dos passos neste caso pode ser dificil de interpretar. Então, neste caso, para acompanhar a evolução do algoritmo, faça dois gráficos:\n",
    "\n",
    "a. Um gráfico de contorno (use plt.imshow ou plt.pcolormesh) da função $U(x,y)$ e desenhe a trajetória da partícula no gráfico.\n",
    "\n",
    "b. Faça um gráfico do valor de $U(x_{n},r_{n})$ a cada passo como função das iterações (passos) $n$. No contexto de redes neurais chamaremos estes passos de epochs.\n",
    "\n",
    "Varie a posição inicial $(x_{0},y_{0})$ e a taxa de aprendizado α e veja como isso afeta a convergência do algoritmo. O que acontece se você aumentar muito a taxa de aprendizado? E se você diminuir muito? Você consegue atingir o mínimo global?"
   ]
  },
  {
   "cell_type": "markdown",
   "metadata": {},
   "source": []
  },
  {
   "cell_type": "code",
   "execution_count": 1,
   "metadata": {},
   "outputs": [],
   "source": [
    "import numpy as np\n",
    "import matplotlib.pyplot as plt\n",
    "\n",
    "def funcao(x, y):\n",
    "    return np.sin(x)*np.cos(y) + (2*(x*y)**2)/1000\n",
    "\n",
    "def derivada(x, y):\n",
    "    return - np.sin(x)*np.sin(y) + ((x**2)*y)/250"
   ]
  },
  {
   "cell_type": "code",
   "execution_count": 3,
   "metadata": {},
   "outputs": [
    {
     "ename": "_IncompleteInputError",
     "evalue": "incomplete input (1044694001.py, line 9)",
     "output_type": "error",
     "traceback": [
      "\u001b[1;36m  Cell \u001b[1;32mIn[3], line 9\u001b[1;36m\u001b[0m\n\u001b[1;33m    \u001b[0m\n\u001b[1;37m    ^\u001b[0m\n\u001b[1;31m_IncompleteInputError\u001b[0m\u001b[1;31m:\u001b[0m incomplete input\n"
     ]
    }
   ],
   "source": [
    "def grad_desc(x_0, y_0, alpha, itera, epsilon):\n",
    "    x = x_0\n",
    "    y = y_0\n",
    "    x_list = [x]\n",
    "    y_list = [y]\n",
    "    U = [funcao(x, y)]\n",
    "\n",
    "    for _ in range(itera):\n",
    "        "
   ]
  },
  {
   "cell_type": "code",
   "execution_count": null,
   "metadata": {},
   "outputs": [],
   "source": []
  }
 ],
 "metadata": {
  "kernelspec": {
   "display_name": "fiscomp",
   "language": "python",
   "name": "python3"
  },
  "language_info": {
   "codemirror_mode": {
    "name": "ipython",
    "version": 3
   },
   "file_extension": ".py",
   "mimetype": "text/x-python",
   "name": "python",
   "nbconvert_exporter": "python",
   "pygments_lexer": "ipython3",
   "version": "3.13.2"
  }
 },
 "nbformat": 4,
 "nbformat_minor": 2
}
