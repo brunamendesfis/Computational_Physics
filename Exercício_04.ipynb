{
 "cells": [
  {
   "cell_type": "markdown",
   "id": "5a073ad9",
   "metadata": {},
   "source": [
    "# Exercício 4:\n",
    "\n",
    "Considere agora uma função bidimensional:\n",
    "\n",
    "$$U(\\vec{r}) = U(x, y) = \\sin(x)\\cos(y) + \\frac{2(xy)^2}{1000}$$\n",
    "\n",
    "A função tem multiplos mínimos locais. A vizualiação 3D dos passos neste caso pode ser dificil de interpretar. Então, neste caso, para acompanhar a evolução do algoritmo, faça dois gráficos:\n",
    "\n",
    "a. Um gráfico de contorno (use plt.imshow ou plt.pcolormesh) da função $U(x,y)$ e desenhe a trajetória da partícula no gráfico.\n",
    "\n",
    "b. Faça um gráfico do valor de $U(x_{n},r_{n})$ a cada passo como função das iterações (passos) $n$. No contexto de redes neurais chamaremos estes passos de epochs.\n",
    "\n",
    "Varie a posição inicial $(x_{0},y_{0})$ e a taxa de aprendizado α e veja como isso afeta a convergência do algoritmo. O que acontece se você aumentar muito a taxa de aprendizado? E se você diminuir muito? Você consegue atingir o mínimo global?"
   ]
  },
  {
   "cell_type": "code",
   "execution_count": 1,
   "id": "e7721d3d",
   "metadata": {},
   "outputs": [],
   "source": [
    "import numpy as np\n",
    "import matplotlib.pyplot as plt\n",
    "\n",
    "def funcao(x, y):\n",
    "    return np.sin(x)*np.cos(y) + (2*(x*y)**2)/1000\n",
    "\n",
    "def derivada(x, y):\n",
    "    return - np.sin(x)*np.sin(y) + ((x**2)*y)/250\n"
   ]
  },
  {
   "cell_type": "code",
   "execution_count": null,
   "id": "c5f95450",
   "metadata": {},
   "outputs": [],
   "source": [
    "def grad_desc(x_0, y_0, alpha, itera, epsilon):\n",
    "    x = x_0\n",
    "    y = y_0\n",
    "    x_list = [x]\n",
    "    y_list = [y]\n",
    "    U = [funcao(x, y)]\n",
    "\n",
    "    for _ in range(itera):\n",
    "        "
   ]
  },
  {
   "cell_type": "markdown",
   "id": "cdb96927",
   "metadata": {},
   "source": []
  }
 ],
 "metadata": {
  "kernelspec": {
   "display_name": "base",
   "language": "python",
   "name": "python3"
  },
  "language_info": {
   "codemirror_mode": {
    "name": "ipython",
    "version": 3
   },
   "file_extension": ".py",
   "mimetype": "text/x-python",
   "name": "python",
   "nbconvert_exporter": "python",
   "pygments_lexer": "ipython3",
   "version": "3.12.7"
  }
 },
 "nbformat": 4,
 "nbformat_minor": 5
}
