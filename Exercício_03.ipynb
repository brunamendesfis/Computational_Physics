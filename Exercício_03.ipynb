{
 "cells": [
  {
   "cell_type": "markdown",
   "metadata": {},
   "source": [
    "# Exercício 3:\n",
    "\n",
    "Repita o exercício 2, mas agora vamos manipular a altura dos mínimos somando uma reta em U(x), tal que a função agora é U(x) = x²(x − 1)(x + 1) + x/4. O que acontece? O que você pode concluir sobre a escolha da taxa de aprendizado α?"
   ]
  },
  {
   "cell_type": "markdown",
   "metadata": {},
   "source": []
  }
 ],
 "metadata": {
  "language_info": {
   "name": "python"
  }
 },
 "nbformat": 4,
 "nbformat_minor": 2
}
