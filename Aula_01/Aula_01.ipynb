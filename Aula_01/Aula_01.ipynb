{
 "cells": [
  {
   "cell_type": "code",
   "execution_count": 2,
   "metadata": {},
   "outputs": [],
   "source": [
    "class aluno():\n",
    "\n",
    "    def __init__(self, nome, num_ufu):\n",
    "        # método de inicializaçõa\n",
    "        self.nome = nome \n",
    "        self.num_ufu = num_ufu\n",
    "        self.notas = []\n",
    "\n",
    "    def imprime_ficha(self):\n",
    "        print(\"nome:\", self.nome)\n",
    "        print('# ufu:', self.num_ufu)\n",
    "        print('notas:', self.notas)\n",
    "        print('media:', self.media)\n",
    "\n",
    "    def atribuitr_nota(self, nota):\n",
    "        self.notas.append(nota)\n",
    "\n",
    "    @property\n",
    "    def media(self):\n",
    "        return sum(self.notas) / 5"
   ]
  },
  {
   "cell_type": "code",
   "execution_count": 3,
   "metadata": {},
   "outputs": [],
   "source": [
    "olavo = aluno(\"Olavo Viola\", \"123FIS001\")"
   ]
  },
  {
   "cell_type": "code",
   "execution_count": 4,
   "metadata": {},
   "outputs": [],
   "source": [
    "olavo = aluno('olavo viola', '123FIS001')\n",
    "pedro = aluno('pedro', '123FIS002')\n",
    "\n",
    "olavo.atribuitr_nota(6)\n",
    "olavo.atribuitr_nota(8)"
   ]
  },
  {
   "cell_type": "code",
   "execution_count": 5,
   "metadata": {},
   "outputs": [
    {
     "name": "stdout",
     "output_type": "stream",
     "text": [
      "nome: olavo viola\n",
      "# ufu: 123FIS001\n",
      "notas: [6, 8]\n",
      "media: 2.8\n"
     ]
    }
   ],
   "source": [
    "olavo.imprime_ficha()"
   ]
  },
  {
   "cell_type": "code",
   "execution_count": 6,
   "metadata": {},
   "outputs": [
    {
     "data": {
      "text/plain": [
       "2.8"
      ]
     },
     "execution_count": 6,
     "metadata": {},
     "output_type": "execute_result"
    }
   ],
   "source": [
    "olavo.media"
   ]
  },
  {
   "cell_type": "code",
   "execution_count": null,
   "metadata": {},
   "outputs": [],
   "source": []
  }
 ],
 "metadata": {
  "kernelspec": {
   "display_name": "base",
   "language": "python",
   "name": "python3"
  },
  "language_info": {
   "codemirror_mode": {
    "name": "ipython",
    "version": 3
   },
   "file_extension": ".py",
   "mimetype": "text/x-python",
   "name": "python",
   "nbconvert_exporter": "python",
   "pygments_lexer": "ipython3",
   "version": "3.12.7"
  }
 },
 "nbformat": 4,
 "nbformat_minor": 2
}
