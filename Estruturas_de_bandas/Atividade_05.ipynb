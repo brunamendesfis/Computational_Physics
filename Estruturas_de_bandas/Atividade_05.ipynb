{
 "cells": [
  {
   "cell_type": "code",
   "execution_count": 24,
   "id": "6e413e74",
   "metadata": {},
   "outputs": [],
   "source": [
    "import numpy as np\n",
    "\n",
    "k = np.linspace(- np.pi, np.pi, 51)\n",
    "n = np.arange(-1, 2)\n",
    "G = 2*np.pi*n\n",
    "alpha = 1\n",
    "\n",
    "lmbda = lambda k: np.abs(k - G)**2"
   ]
  },
  {
   "cell_type": "code",
   "execution_count": 19,
   "id": "91ee0627",
   "metadata": {},
   "outputs": [
    {
     "data": {
      "text/plain": [
       "array([-6.28318531,  0.        ,  6.28318531])"
      ]
     },
     "execution_count": 19,
     "metadata": {},
     "output_type": "execute_result"
    }
   ],
   "source": [
    "G"
   ]
  },
  {
   "cell_type": "code",
   "execution_count": 23,
   "id": "1be25d51",
   "metadata": {},
   "outputs": [
    {
     "data": {
      "text/plain": [
       "array([4.20316917e+01, 4.00000000e-02, 3.70051435e+01])"
      ]
     },
     "execution_count": 23,
     "metadata": {},
     "output_type": "execute_result"
    }
   ],
   "source": [
    "lmbda(0.2)"
   ]
  },
  {
   "cell_type": "code",
   "execution_count": 12,
   "id": "447b717a",
   "metadata": {},
   "outputs": [
    {
     "data": {
      "text/plain": [
       "array([-1,  0,  1])"
      ]
     },
     "execution_count": 12,
     "metadata": {},
     "output_type": "execute_result"
    }
   ],
   "source": [
    "n"
   ]
  },
  {
   "cell_type": "code",
   "execution_count": null,
   "id": "a7e89b26",
   "metadata": {},
   "outputs": [],
   "source": [
    "def hamiltoniano(k, G, n, alpha):\n",
    "    \"\"\"\n",
    "    Hamiltonian for the system.\n",
    "    \n",
    "    Parameters:\n",
    "    k : float\n",
    "        Wave vector.\n",
    "    G : array_like\n",
    "        Reciprocal lattice vectors.\n",
    "    n : array_like\n",
    "        Integer indices.\n",
    "    alpha : float\n",
    "        Parameter related to the system.\n",
    "        \n",
    "    Returns:\n",
    "    H : array_like\n",
    "        Hamiltonian matrix.\n",
    "    \"\"\"\n",
    "    H = np.zeros((len(n), len(n)), dtype=complex)\n",
    "    \n",
    "    for i, ni in enumerate(n):\n",
    "        for j, nj in enumerate(n):\n",
    "            H[i, j] = alpha * np.exp(-1j * (k + G[ni - nj]))\n",
    "    \n",
    "    return H"
   ]
  },
  {
   "cell_type": "code",
   "execution_count": 28,
   "id": "cdc3ec52",
   "metadata": {},
   "outputs": [
    {
     "data": {
      "text/plain": [
       "array([[9.86960440e+00, 9.86960440e+00, 8.88264396e+01],\n",
       "       [1.06749641e+01, 9.09582742e+00, 8.64735259e+01],\n",
       "       [1.15119066e+01, 8.35363317e+00, 8.41521950e+01],\n",
       "       [1.23804318e+01, 7.64302165e+00, 8.18624467e+01],\n",
       "       [1.32805397e+01, 6.96399287e+00, 7.96042813e+01],\n",
       "       [1.42122303e+01, 6.31654682e+00, 7.73776985e+01],\n",
       "       [1.51755037e+01, 5.70068350e+00, 7.51826985e+01],\n",
       "       [1.61703599e+01, 5.11640292e+00, 7.30192812e+01],\n",
       "       [1.71967987e+01, 4.56370508e+00, 7.08874467e+01],\n",
       "       [1.82548203e+01, 4.04258996e+00, 6.87871948e+01],\n",
       "       [1.93444246e+01, 3.55305758e+00, 6.67185258e+01],\n",
       "       [2.04656117e+01, 3.09510794e+00, 6.46814394e+01],\n",
       "       [2.16183815e+01, 2.66874103e+00, 6.26759358e+01],\n",
       "       [2.28027340e+01, 2.27395685e+00, 6.07020149e+01],\n",
       "       [2.40186693e+01, 1.91075541e+00, 5.87596768e+01],\n",
       "       [2.52661873e+01, 1.57913670e+00, 5.68489214e+01],\n",
       "       [2.65452880e+01, 1.27910073e+00, 5.49697487e+01],\n",
       "       [2.78559715e+01, 1.01064749e+00, 5.31221587e+01],\n",
       "       [2.91982377e+01, 7.73776985e-01, 5.13061515e+01],\n",
       "       [3.05720866e+01, 5.68489214e-01, 4.95217270e+01],\n",
       "       [3.19775183e+01, 3.94784176e-01, 4.77688853e+01],\n",
       "       [3.34145327e+01, 2.52661873e-01, 4.60476263e+01],\n",
       "       [3.48831298e+01, 1.42122303e-01, 4.43579500e+01],\n",
       "       [3.63833097e+01, 6.31654682e-02, 4.26998565e+01],\n",
       "       [3.79150723e+01, 1.57913670e-02, 4.10733457e+01],\n",
       "       [3.94784176e+01, 1.97215226e-31, 3.94784176e+01],\n",
       "       [4.10733457e+01, 1.57913670e-02, 3.79150723e+01],\n",
       "       [4.26998565e+01, 6.31654682e-02, 3.63833097e+01],\n",
       "       [4.43579500e+01, 1.42122303e-01, 3.48831298e+01],\n",
       "       [4.60476263e+01, 2.52661873e-01, 3.34145327e+01],\n",
       "       [4.77688853e+01, 3.94784176e-01, 3.19775183e+01],\n",
       "       [4.95217270e+01, 5.68489214e-01, 3.05720866e+01],\n",
       "       [5.13061515e+01, 7.73776985e-01, 2.91982377e+01],\n",
       "       [5.31221587e+01, 1.01064749e+00, 2.78559715e+01],\n",
       "       [5.49697487e+01, 1.27910073e+00, 2.65452880e+01],\n",
       "       [5.68489214e+01, 1.57913670e+00, 2.52661873e+01],\n",
       "       [5.87596768e+01, 1.91075541e+00, 2.40186693e+01],\n",
       "       [6.07020149e+01, 2.27395685e+00, 2.28027340e+01],\n",
       "       [6.26759358e+01, 2.66874103e+00, 2.16183815e+01],\n",
       "       [6.46814394e+01, 3.09510794e+00, 2.04656117e+01],\n",
       "       [6.67185258e+01, 3.55305758e+00, 1.93444246e+01],\n",
       "       [6.87871948e+01, 4.04258996e+00, 1.82548203e+01],\n",
       "       [7.08874467e+01, 4.56370508e+00, 1.71967987e+01],\n",
       "       [7.30192812e+01, 5.11640292e+00, 1.61703599e+01],\n",
       "       [7.51826985e+01, 5.70068350e+00, 1.51755037e+01],\n",
       "       [7.73776985e+01, 6.31654682e+00, 1.42122303e+01],\n",
       "       [7.96042813e+01, 6.96399287e+00, 1.32805397e+01],\n",
       "       [8.18624467e+01, 7.64302165e+00, 1.23804318e+01],\n",
       "       [8.41521950e+01, 8.35363317e+00, 1.15119066e+01],\n",
       "       [8.64735259e+01, 9.09582742e+00, 1.06749641e+01],\n",
       "       [8.88264396e+01, 9.86960440e+00, 9.86960440e+00]])"
      ]
     },
     "execution_count": 28,
     "metadata": {},
     "output_type": "execute_result"
    }
   ],
   "source": [
    "lmbda_lista = []\n",
    "\n",
    "for ki in k:\n",
    "    lmbda_i = np.abs(ki - G)**2\n",
    "    lmbda_lista.append(lmbda_i)\n",
    "\n",
    "lmbda_lista = np.array(lmbda_lista)\n",
    "lmbda_lista"
   ]
  },
  {
   "cell_type": "code",
   "execution_count": 29,
   "id": "1b8b94b7",
   "metadata": {},
   "outputs": [
    {
     "name": "stdout",
     "output_type": "stream",
     "text": [
      "The history saving thread hit an unexpected error (OperationalError('database or disk is full')).History will not be written to the database.\n"
     ]
    },
    {
     "data": {
      "text/plain": [
       "array([ 9.8696044 ,  9.09582742, 84.15219497])"
      ]
     },
     "execution_count": 29,
     "metadata": {},
     "output_type": "execute_result"
    }
   ],
   "source": [
    "vetor = np.diag(lmbda_lista)\n",
    "vetor"
   ]
  },
  {
   "cell_type": "code",
   "execution_count": null,
   "id": "98238897",
   "metadata": {},
   "outputs": [],
   "source": [
    "matriz = np.diag"
   ]
  }
 ],
 "metadata": {
  "kernelspec": {
   "display_name": "fiscomp",
   "language": "python",
   "name": "python3"
  },
  "language_info": {
   "codemirror_mode": {
    "name": "ipython",
    "version": 3
   },
   "file_extension": ".py",
   "mimetype": "text/x-python",
   "name": "python",
   "nbconvert_exporter": "python",
   "pygments_lexer": "ipython3",
   "version": "3.13.2"
  }
 },
 "nbformat": 4,
 "nbformat_minor": 5
}
